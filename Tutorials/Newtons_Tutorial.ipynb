{
 "cells": [
  {
   "cell_type": "code",
   "execution_count": null,
   "metadata": {},
   "outputs": [],
   "source": [
    "import numpy as np\n",
    "import sympy as sym\n",
    "import math\n",
    "from pathlib import Path\n",
    "from Assignment1.Newtons_Method.src.function import *\n",
    "from Assignment1.Newtons_Method.src.MultiRoot import *\n"
   ]
  },
  {
   "attachments": {},
   "cell_type": "markdown",
   "metadata": {},
   "source": [
    "# Example 1. \n",
    "```python\n",
    "f = lambda x: 2*x + 3\n",
    "```"
   ]
  },
  {
   "cell_type": "code",
   "execution_count": 2,
   "metadata": {},
   "outputs": [
    {
     "name": "stdout",
     "output_type": "stream",
     "text": [
      "root= [-0.5]\n"
     ]
    }
   ],
   "source": [
    "#Simplest Example, evaluating a simple linear system\n",
    "x = sym.symbols('x')\n",
    "f = lambda x: (x*2+1)\n",
    "root = multi_root(f)\n",
    "print (\"root=\", root)\n"
   ]
  },
  {
   "attachments": {},
   "cell_type": "markdown",
   "metadata": {},
   "source": [
    "# Example 2.\n",
    "Evaluating a binomial, multiple calculations may be required to determine multiple roots"
   ]
  },
  {
   "cell_type": "code",
   "execution_count": 3,
   "metadata": {},
   "outputs": [
    {
     "name": "stdout",
     "output_type": "stream",
     "text": [
      "root= [1.7320508083574904]\n"
     ]
    }
   ],
   "source": [
    "#Adding complexity, evaluating a binomial\n",
    "x = sym.symbols('x')\n",
    "f = lambda x:(x**2-3)\n",
    "root = multi_root(f)\n",
    "print (\"root=\", root)"
   ]
  },
  {
   "attachments": {},
   "cell_type": "markdown",
   "metadata": {},
   "source": [
    "# Example 3.\n",
    "Working with multiple functions"
   ]
  },
  {
   "cell_type": "code",
   "execution_count": 4,
   "metadata": {},
   "outputs": [
    {
     "name": "stdout",
     "output_type": "stream",
     "text": [
      "root= -0.5\n",
      "root= 0.0\n"
     ]
    }
   ],
   "source": [
    "#Example 3.\n",
    "x0 = 4\n",
    "x = sym.symbols('x')\n",
    "y = sym.symbols('y')\n",
    "#n = number of functions being evaluated\n",
    "n = 2\n",
    "eqn1 = lambda x:(x*2+1)\n",
    "eqn2 = lambda x:(x)\n",
    "eqns = [eqn1, eqn2]\n",
    "roots = multi_function(eqns, x0, n)\n",
    "\n"
   ]
  },
  {
   "attachments": {},
   "cell_type": "markdown",
   "metadata": {},
   "source": [
    "# Example 4. \n",
    "Equations of motion"
   ]
  },
  {
   "cell_type": "code",
   "execution_count": 5,
   "metadata": {},
   "outputs": [
    {
     "name": "stdout",
     "output_type": "stream",
     "text": [
      "root= [4.308449860298915e-11]\n"
     ]
    }
   ],
   "source": [
    "# Example 4.\n",
    "#Evaluating equation of motion of a cart attached to a spring.\n",
    "#Using mass (m) and spring constant (k)\n",
    "m = 1\n",
    "k = 1\n",
    "#This equation of motion results in the differential equation m(d^2x/dy^2) = -kx\n",
    "#Simplifying to 1/2x^2 + k*x = 0 and can be solved using this solver\n",
    "f = lambda x: m*x**2 + k*x\n",
    "root = multi_root(f)\n",
    "print (\"root=\", root)"
   ]
  },
  {
   "attachments": {},
   "cell_type": "markdown",
   "metadata": {},
   "source": [
    "# Example 5.\n",
    "Final example will evaluate projectile motion"
   ]
  },
  {
   "cell_type": "code",
   "execution_count": 6,
   "metadata": {},
   "outputs": [
    {
     "name": "stdout",
     "output_type": "stream",
     "text": [
      "root= [-3.311425494316846e-07, 1.0204081914459207]\n"
     ]
    }
   ],
   "source": [
    "# Example 5.\n",
    "#Evaluating projectile motion\n",
    "#Using mass (m) and gravity (g)\n",
    "m = 1\n",
    "g = 9.8\n",
    "y0 = 0\n",
    "#Initial upwards velocity\n",
    "ydot = 10\n",
    "#This evaluation \n",
    "f = lambda t: y0 + ydot*t - (m*g*t**2)\n",
    "root = multi_root(f)\n",
    "print (\"root=\", root)\n"
   ]
  },
  {
   "cell_type": "code",
   "execution_count": null,
   "metadata": {},
   "outputs": [],
   "source": []
  }
 ],
 "metadata": {
  "kernelspec": {
   "display_name": "Python 3",
   "language": "python",
   "name": "python3"
  },
  "language_info": {
   "codemirror_mode": {
    "name": "ipython",
    "version": 3
   },
   "file_extension": ".py",
   "mimetype": "text/x-python",
   "name": "python",
   "nbconvert_exporter": "python",
   "pygments_lexer": "ipython3",
   "version": "3.12.1"
  }
 },
 "nbformat": 4,
 "nbformat_minor": 2
}

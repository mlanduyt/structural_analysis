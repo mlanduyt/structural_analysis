{
 "cells": [
  {
   "cell_type": "code",
   "execution_count": null,
   "metadata": {},
   "outputs": [
    {
     "ename": "",
     "evalue": "",
     "output_type": "error",
     "traceback": [
      "\u001b[1;31mThe kernel failed to start as the Python Environment 'me700 (Python -1.-1.-1)' is no longer available. Consider selecting another kernel or refreshing the list of Python Environments."
     ]
    }
   ],
   "source": [
    "from ihardening import *\n",
    "from khardening import *"
   ]
  },
  {
   "cell_type": "markdown",
   "metadata": {},
   "source": [
    "# Example 1. \n",
    "basic example using isotropic hardening"
   ]
  },
  {
   "cell_type": "code",
   "execution_count": null,
   "metadata": {},
   "outputs": [],
   "source": [
    "#Simplest Example, with constant increasing strain\n",
    "from ihardening import *\n",
    "E = 1000\n",
    "Et = 100\n",
    "Y0 = 10\n",
    "\n",
    "eps_n = 0\n",
    "sig_n = 0\n",
    "del_eps = 0.0075\n",
    "\n",
    "H = hardening(E,Et)\n",
    "\n",
    "Y0, sig_n1, eps_n1 = ipredictor (Y0, E, del_eps, sig_n, H, eps_n)\n",
    "Y0, sig_n2, eps_n2 = ipredictor (Y0, E, del_eps, sig_n1, H, eps_n1)\n",
    "Y0, sig_n3, eps_n3 = ipredictor (Y0, E, del_eps, sig_n2, H, eps_n2)\n",
    "\n",
    "print (sig_n, eps_n)\n",
    "print (sig_n1, eps_n1)\n",
    "print (sig_n2, eps_n2)\n",
    "print (sig_n3, eps_n3)\n",
    "\n"
   ]
  },
  {
   "cell_type": "markdown",
   "metadata": {},
   "source": [
    "# Example 2.\n",
    "Undoing strain using isotropic hardening"
   ]
  },
  {
   "cell_type": "code",
   "execution_count": null,
   "metadata": {},
   "outputs": [],
   "source": [
    "#Simplest Example, evaluating a case in which the strain is increased and then decreased\n",
    "from ihardening import *\n",
    "E = 1000\n",
    "Et = 100\n",
    "Y0 = 10\n",
    "\n",
    "eps_n = 0\n",
    "sig_n = 0\n",
    "del_eps = 0.0075\n",
    "\n",
    "H = hardening(E,Et)\n",
    "\n",
    "Y0, sig_n1, eps_n1 = ipredictor (Y0, E, del_eps, sig_n, H, eps_n)\n",
    "del_eps = -0.0075\n",
    "Y0, sig_n2, eps_n2 = ipredictor (Y0, E, del_eps, sig_n1, H, eps_n1)\n",
    "Y0, sig_n3, eps_n3 = ipredictor (Y0, E, del_eps, sig_n2, H, eps_n2)\n",
    "\n",
    "print (sig_n, eps_n)\n",
    "print (sig_n1, eps_n1)\n",
    "print (sig_n2, eps_n2)\n",
    "print (sig_n3, eps_n3)"
   ]
  },
  {
   "cell_type": "markdown",
   "metadata": {},
   "source": [
    "# Example 3.\n",
    "Using Kinematic Hardening, same numbers as example 1"
   ]
  },
  {
   "cell_type": "code",
   "execution_count": null,
   "metadata": {},
   "outputs": [],
   "source": [
    "#Simplest Example, with constant increasing strain\n",
    "from khardening import *\n",
    "E = 1000\n",
    "Et = 100\n",
    "Y0 = 10\n",
    "\n",
    "eps_n = 0\n",
    "sig_n = 0\n",
    "alpha_n = 0\n",
    "del_eps = 0.0075\n",
    "\n",
    "H = hardening(E,Et)\n",
    "\n",
    "sig_n1, eps_n1, alpha_n1 = kpredictor(sig_n, eps_n, alpha_n, del_eps, E, H, Y0)\n",
    "sig_n2, eps_n2, alpha_n2 = kpredictor(sig_n1, eps_n1, alpha_n1, del_eps, E, H, Y0)\n",
    "sig_n3, eps_n3, alpha_n3 = kpredictor(sig_n2, eps_n2, alpha_n2, del_eps, E, H, Y0)\n",
    "\n",
    "print (sig_n, eps_n, alpha_n)\n",
    "print (sig_n1, eps_n1, alpha_n1)\n",
    "print (sig_n2, eps_n2, alpha_n2)\n",
    "print (sig_n3, eps_n3, alpha_n3)"
   ]
  },
  {
   "cell_type": "markdown",
   "metadata": {},
   "source": [
    "# Example 4. \n",
    "Undoing strain over two steps using kinematic hardening"
   ]
  },
  {
   "cell_type": "code",
   "execution_count": null,
   "metadata": {},
   "outputs": [],
   "source": [
    "#Simplest Example, with constant increasing strain\n",
    "from khardening import *\n",
    "E = 1000\n",
    "Et = 100\n",
    "Y0 = 10\n",
    "\n",
    "eps_n = 0\n",
    "sig_n = 0\n",
    "alpha_n = 0\n",
    "del_eps = 0.0075\n",
    "\n",
    "H = hardening(E,Et)\n",
    "\n",
    "sig_n1, eps_n1, alpha_n1 = kpredictor(sig_n, eps_n, alpha_n, del_eps, E, H, Y0)\n",
    "del_eps = -.00375\n",
    "sig_n2, eps_n2, alpha_n2 = kpredictor(sig_n1, eps_n1, alpha_n1, del_eps, E, H, Y0)\n",
    "sig_n3, eps_n3, alpha_n3 = kpredictor(sig_n2, eps_n2, alpha_n2, del_eps, E, H, Y0)\n",
    "\n",
    "\n",
    "print (sig_n, eps_n, alpha_n)\n",
    "print (sig_n1, eps_n1, alpha_n1)\n",
    "print (sig_n2, eps_n2, alpha_n2)\n",
    "print (sig_n3, eps_n3, alpha_n3)"
   ]
  },
  {
   "cell_type": "markdown",
   "metadata": {},
   "source": [
    "# Example 5.\n",
    "Using inputed parameters"
   ]
  },
  {
   "cell_type": "code",
   "execution_count": null,
   "metadata": {},
   "outputs": [],
   "source": [
    "#Simplest Example, with constant increasing strain\n",
    "from khardening import *\n",
    "E = input (\"Enter Youngs Modulus\")\n",
    "Et = input (\"Enter Tangent Modulus\")\n",
    "Y0 = input (\"initial Yield Stress\")\n",
    "\n",
    "eps_n = (\"Enter initial strain\")\n",
    "sig_n = (\"Enter initial stress\")\n",
    "alpha_n = (\"Enter initial back stress\")\n",
    "del_eps = (\"Enter initial strain increment\")\n",
    "\n",
    "H = hardening(E,Et)\n",
    "\n",
    "sig_n1, eps_n1, alpha_n1 = kpredictor(sig_n, eps_n, alpha_n, del_eps, E, H, Y0)\n",
    "del_eps = (\"Enter strain increment\")\n",
    "sig_n2, eps_n2, alpha_n2 = kpredictor(sig_n1, eps_n1, alpha_n1, del_eps, E, H, Y0)\n",
    "del_eps = (\"Enter strain increment\")\n",
    "sig_n3, eps_n3, alpha_n3 = kpredictor(sig_n2, eps_n2, alpha_n2, del_eps, E, H, Y0)\n",
    "\n",
    "\n",
    "print (sig_n, eps_n, alpha_n)\n",
    "print (sig_n1, eps_n1, alpha_n1)\n",
    "print (sig_n2, eps_n2, alpha_n2)\n",
    "print (sig_n3, eps_n3, alpha_n3)\n"
   ]
  }
 ],
 "metadata": {
  "kernelspec": {
   "display_name": "me700",
   "language": "python",
   "name": "python3"
  },
  "language_info": {
   "name": "python",
   "version": "-1.-1.-1"
  }
 },
 "nbformat": 4,
 "nbformat_minor": 2
}

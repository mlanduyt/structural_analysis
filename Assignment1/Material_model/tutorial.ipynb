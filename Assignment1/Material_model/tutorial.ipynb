{
 "cells": [
  {
   "cell_type": "code",
   "execution_count": null,
   "metadata": {},
   "outputs": [
    {
     "ename": "",
     "evalue": "",
     "output_type": "error",
     "traceback": [
      "\u001b[1;31mRunning cells with 'base' requires the ipykernel package.\n",
      "\u001b[1;31mRun the following command to install 'ipykernel' into the Python environment. \n",
      "\u001b[1;31mCommand: 'conda install -n base ipykernel --update-deps --force-reinstall'"
     ]
    }
   ],
   "source": [
    "#This section is not used"
   ]
  },
  {
   "attachments": {},
   "cell_type": "markdown",
   "metadata": {},
   "source": [
    "# Example 1. \n",
    "basic example using isotropic hardening"
   ]
  },
  {
   "cell_type": "code",
   "execution_count": 2,
   "metadata": {},
   "outputs": [
    {
     "name": "stdout",
     "output_type": "stream",
     "text": [
      "0 0\n",
      "7.5 0\n",
      "10.5 0.0045000000000000005\n",
      "11.25 0.01125\n"
     ]
    }
   ],
   "source": [
    "#Simplest Example, with constant increasing strain\n",
    "from ihardening import *\n",
    "E = 1000\n",
    "Et = 100\n",
    "Y0 = 10\n",
    "\n",
    "eps_n = 0\n",
    "sig_n = 0\n",
    "del_eps = 0.0075\n",
    "\n",
    "H = hardening(E,Et)\n",
    "\n",
    "Y0, sig_n1, eps_n1 = ipredictor (Y0, E, del_eps, sig_n, H, eps_n)\n",
    "Y0, sig_n2, eps_n2 = ipredictor (Y0, E, del_eps, sig_n1, H, eps_n1)\n",
    "Y0, sig_n3, eps_n3 = ipredictor (Y0, E, del_eps, sig_n2, H, eps_n2)\n",
    "\n",
    "print (sig_n, eps_n)\n",
    "print (sig_n1, eps_n1)\n",
    "print (sig_n2, eps_n2)\n",
    "print (sig_n3, eps_n3)\n",
    "\n"
   ]
  },
  {
   "attachments": {},
   "cell_type": "markdown",
   "metadata": {},
   "source": [
    "# Example 2.\n",
    "Undoing strain using isotropic hardening"
   ]
  },
  {
   "cell_type": "code",
   "execution_count": 3,
   "metadata": {},
   "outputs": [
    {
     "name": "stdout",
     "output_type": "stream",
     "text": [
      "0 0\n",
      "7.5 0\n",
      "0.0 0\n",
      "-7.5 0\n"
     ]
    }
   ],
   "source": [
    "#Simplest Example, evaluating a case in which the strain is increased and then decreased\n",
    "from ihardening import *\n",
    "E = 1000\n",
    "Et = 100\n",
    "Y0 = 10\n",
    "\n",
    "eps_n = 0\n",
    "sig_n = 0\n",
    "del_eps = 0.0075\n",
    "\n",
    "H = hardening(E,Et)\n",
    "\n",
    "Y0, sig_n1, eps_n1 = ipredictor (Y0, E, del_eps, sig_n, H, eps_n)\n",
    "del_eps = -0.0075\n",
    "Y0, sig_n2, eps_n2 = ipredictor (Y0, E, del_eps, sig_n1, H, eps_n1)\n",
    "Y0, sig_n3, eps_n3 = ipredictor (Y0, E, del_eps, sig_n2, H, eps_n2)\n",
    "\n",
    "print (sig_n, eps_n)\n",
    "print (sig_n1, eps_n1)\n",
    "print (sig_n2, eps_n2)\n",
    "print (sig_n3, eps_n3)"
   ]
  },
  {
   "attachments": {},
   "cell_type": "markdown",
   "metadata": {},
   "source": [
    "# Example 3.\n",
    "Using Kinematic Hardening, same numbers as example 1"
   ]
  },
  {
   "cell_type": "code",
   "execution_count": 4,
   "metadata": {},
   "outputs": [
    {
     "name": "stdout",
     "output_type": "stream",
     "text": [
      "0 0 0\n",
      "7.5 0 0\n",
      "10.5 0.5000000000000001 0.0045000000000000005\n",
      "10.80405 0.80405 0.5071959500000001\n"
     ]
    }
   ],
   "source": [
    "#Simplest Example, with constant increasing strain\n",
    "from khardening import *\n",
    "E = 1000\n",
    "Et = 100\n",
    "Y0 = 10\n",
    "\n",
    "eps_n = 0\n",
    "sig_n = 0\n",
    "alpha_n = 0\n",
    "del_eps = 0.0075\n",
    "\n",
    "H = hardening(E,Et)\n",
    "\n",
    "sig_n1, eps_n1, alpha_n1 = kpredictor(sig_n, eps_n, alpha_n, del_eps, E, H, Y0)\n",
    "sig_n2, eps_n2, alpha_n2 = kpredictor(sig_n1, eps_n1, alpha_n1, del_eps, E, H, Y0)\n",
    "sig_n3, eps_n3, alpha_n3 = kpredictor(sig_n2, eps_n2, alpha_n2, del_eps, E, H, Y0)\n",
    "\n",
    "print (sig_n, eps_n, alpha_n)\n",
    "print (sig_n1, eps_n1, alpha_n1)\n",
    "print (sig_n2, eps_n2, alpha_n2)\n",
    "print (sig_n3, eps_n3, alpha_n3)"
   ]
  },
  {
   "attachments": {},
   "cell_type": "markdown",
   "metadata": {},
   "source": [
    "# Example 4. \n",
    "Undoing strain over two steps using kinematic hardening"
   ]
  },
  {
   "cell_type": "code",
   "execution_count": 5,
   "metadata": {},
   "outputs": [
    {
     "name": "stdout",
     "output_type": "stream",
     "text": [
      "0 0 0\n",
      "7.5 0 0\n",
      "3.75 0 0\n",
      "0.0 0 0\n"
     ]
    }
   ],
   "source": [
    "#Simplest Example, with constant increasing strain\n",
    "from khardening import *\n",
    "E = 1000\n",
    "Et = 100\n",
    "Y0 = 10\n",
    "\n",
    "eps_n = 0\n",
    "sig_n = 0\n",
    "alpha_n = 0\n",
    "del_eps = 0.0075\n",
    "\n",
    "H = hardening(E,Et)\n",
    "\n",
    "sig_n1, eps_n1, alpha_n1 = kpredictor(sig_n, eps_n, alpha_n, del_eps, E, H, Y0)\n",
    "del_eps = -.00375\n",
    "sig_n2, eps_n2, alpha_n2 = kpredictor(sig_n1, eps_n1, alpha_n1, del_eps, E, H, Y0)\n",
    "sig_n3, eps_n3, alpha_n3 = kpredictor(sig_n2, eps_n2, alpha_n2, del_eps, E, H, Y0)\n",
    "\n",
    "\n",
    "print (sig_n, eps_n, alpha_n)\n",
    "print (sig_n1, eps_n1, alpha_n1)\n",
    "print (sig_n2, eps_n2, alpha_n2)\n",
    "print (sig_n3, eps_n3, alpha_n3)"
   ]
  },
  {
   "attachments": {},
   "cell_type": "markdown",
   "metadata": {},
   "source": [
    "# Example 5.\n",
    "Using inputed parameters"
   ]
  },
  {
   "cell_type": "code",
   "execution_count": 6,
   "metadata": {},
   "outputs": [
    {
     "ename": "TypeError",
     "evalue": "can't multiply sequence by non-int of type 'str'",
     "output_type": "error",
     "traceback": [
      "\u001b[0;31m---------------------------------------------------------------------------\u001b[0m",
      "\u001b[0;31mTypeError\u001b[0m                                 Traceback (most recent call last)",
      "Cell \u001b[0;32mIn[6], line 12\u001b[0m\n\u001b[1;32m      9\u001b[0m alpha_n \u001b[39m=\u001b[39m (\u001b[39m\"\u001b[39m\u001b[39mEnter initial back stress\u001b[39m\u001b[39m\"\u001b[39m)\n\u001b[1;32m     10\u001b[0m del_eps \u001b[39m=\u001b[39m (\u001b[39m\"\u001b[39m\u001b[39mEnter initial strain increment\u001b[39m\u001b[39m\"\u001b[39m)\n\u001b[0;32m---> 12\u001b[0m H \u001b[39m=\u001b[39m hardening(E,Et)\n\u001b[1;32m     14\u001b[0m sig_n1, eps_n1, alpha_n1 \u001b[39m=\u001b[39m kpredictor(sig_n, eps_n, alpha_n, del_eps, E, H, Y0)\n\u001b[1;32m     15\u001b[0m del_eps \u001b[39m=\u001b[39m (\u001b[39m\"\u001b[39m\u001b[39mEnter strain increment\u001b[39m\u001b[39m\"\u001b[39m)\n",
      "File \u001b[0;32m/projectnb/me700/students/mlanduyt/Assignment1/Material_model/khardening.py:18\u001b[0m, in \u001b[0;36mhardening\u001b[0;34m(E, Et)\u001b[0m\n\u001b[1;32m     17\u001b[0m \u001b[39mdef\u001b[39;00m\u001b[39m \u001b[39m\u001b[39mhardening\u001b[39m(E, Et):\n\u001b[0;32m---> 18\u001b[0m     H \u001b[39m=\u001b[39m (E\u001b[39m*\u001b[39;49mEt)\u001b[39m/\u001b[39m(E\u001b[39m-\u001b[39mEt)\n\u001b[1;32m     19\u001b[0m     \u001b[39mreturn\u001b[39;00m H\n",
      "\u001b[0;31mTypeError\u001b[0m: can't multiply sequence by non-int of type 'str'"
     ]
    }
   ],
   "source": [
    "#Simplest Example, with constant increasing strain\n",
    "from khardening import *\n",
    "E = input (\"Enter Youngs Modulus\")\n",
    "Et = input (\"Enter Tangent Modulus\")\n",
    "Y0 = input (\"initial Yield Stress\")\n",
    "\n",
    "eps_n = (\"Enter initial strain\")\n",
    "sig_n = (\"Enter initial stress\")\n",
    "alpha_n = (\"Enter initial back stress\")\n",
    "del_eps = (\"Enter initial strain increment\")\n",
    "\n",
    "H = hardening(E,Et)\n",
    "\n",
    "sig_n1, eps_n1, alpha_n1 = kpredictor(sig_n, eps_n, alpha_n, del_eps, E, H, Y0)\n",
    "del_eps = (\"Enter strain increment\")\n",
    "sig_n2, eps_n2, alpha_n2 = kpredictor(sig_n1, eps_n1, alpha_n1, del_eps, E, H, Y0)\n",
    "del_eps = (\"Enter strain increment\")\n",
    "sig_n3, eps_n3, alpha_n3 = kpredictor(sig_n2, eps_n2, alpha_n2, del_eps, E, H, Y0)\n",
    "\n",
    "\n",
    "print (sig_n, eps_n, alpha_n)\n",
    "print (sig_n1, eps_n1, alpha_n1)\n",
    "print (sig_n2, eps_n2, alpha_n2)\n",
    "print (sig_n3, eps_n3, alpha_n3)\n"
   ]
  },
  {
   "cell_type": "code",
   "execution_count": null,
   "metadata": {},
   "outputs": [
    {
     "ename": "",
     "evalue": "",
     "output_type": "error",
     "traceback": [
      "\u001b[1;31mRunning cells with 'base' requires the ipykernel package.\n",
      "\u001b[1;31mRun the following command to install 'ipykernel' into the Python environment. \n",
      "\u001b[1;31mCommand: 'conda install -n base ipykernel --update-deps --force-reinstall'"
     ]
    }
   ],
   "source": []
  }
 ],
 "metadata": {
  "kernelspec": {
   "display_name": "me700-3env",
   "language": "python",
   "name": "python3"
  },
  "language_info": {
   "codemirror_mode": {
    "name": "ipython",
    "version": 3
   },
   "file_extension": ".py",
   "mimetype": "text/x-python",
   "name": "python",
   "nbconvert_exporter": "python",
   "pygments_lexer": "ipython3",
   "version": "3.9.13"
  }
 },
 "nbformat": 4,
 "nbformat_minor": 2
}

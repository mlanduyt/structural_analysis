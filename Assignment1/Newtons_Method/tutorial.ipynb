{
 "cells": [
  {
   "cell_type": "code",
   "execution_count": 5,
   "metadata": {},
   "outputs": [
    {
     "ename": "ModuleNotFoundError",
     "evalue": "No module named 'sympy'",
     "output_type": "error",
     "traceback": [
      "\u001b[0;31m---------------------------------------------------------------------------\u001b[0m",
      "\u001b[0;31mModuleNotFoundError\u001b[0m                       Traceback (most recent call last)",
      "Cell \u001b[0;32mIn[5], line 2\u001b[0m\n\u001b[1;32m      1\u001b[0m \u001b[39mimport\u001b[39;00m\u001b[39m \u001b[39m\u001b[39mnumpy\u001b[39;00m\u001b[39m \u001b[39m\u001b[39mas\u001b[39;00m\u001b[39m \u001b[39m\u001b[39mnp\u001b[39;00m\n\u001b[0;32m----> 2\u001b[0m \u001b[39mimport\u001b[39;00m\u001b[39m \u001b[39m\u001b[39msympy\u001b[39;00m\u001b[39m \u001b[39m\u001b[39mas\u001b[39;00m\u001b[39m \u001b[39m\u001b[39msym\u001b[39;00m\n\u001b[1;32m      3\u001b[0m \u001b[39mimport\u001b[39;00m\u001b[39m \u001b[39m\u001b[39mmath\u001b[39;00m\n\u001b[1;32m      4\u001b[0m \u001b[39mfrom\u001b[39;00m\u001b[39m \u001b[39m\u001b[39mpathlib\u001b[39;00m\u001b[39m \u001b[39m\u001b[39mimport\u001b[39;00m Path\n",
      "\u001b[0;31mModuleNotFoundError\u001b[0m: No module named 'sympy'"
     ]
    }
   ],
   "source": [
    "import numpy as np\n",
    "import sympy as sym\n",
    "import math\n",
    "from pathlib import Path\n",
    "from function import *\n",
    "from MultiRoot import *\n"
   ]
  },
  {
   "attachments": {},
   "cell_type": "markdown",
   "metadata": {},
   "source": [
    "# Example 1. \n",
    "```python\n",
    "f = lambda x: 2*x + 3\n",
    "```"
   ]
  },
  {
   "cell_type": "code",
   "execution_count": 1,
   "metadata": {},
   "outputs": [
    {
     "ename": "NameError",
     "evalue": "name 'sym' is not defined",
     "output_type": "error",
     "traceback": [
      "\u001b[0;31m---------------------------------------------------------------------------\u001b[0m",
      "\u001b[0;31mNameError\u001b[0m                                 Traceback (most recent call last)",
      "Cell \u001b[0;32mIn[1], line 2\u001b[0m\n\u001b[1;32m      1\u001b[0m \u001b[39m#Simplest Example, evaluating a simple linear system\u001b[39;00m\n\u001b[0;32m----> 2\u001b[0m x \u001b[39m=\u001b[39m sym\u001b[39m.\u001b[39msymbols(\u001b[39m'\u001b[39m\u001b[39mx\u001b[39m\u001b[39m'\u001b[39m)\n\u001b[1;32m      3\u001b[0m f \u001b[39m=\u001b[39m (x\u001b[39m*\u001b[39m\u001b[39m2\u001b[39m\u001b[39m+\u001b[39m\u001b[39m1\u001b[39m)\n\u001b[1;32m      4\u001b[0m root \u001b[39m=\u001b[39m multi_root(f)\n",
      "\u001b[0;31mNameError\u001b[0m: name 'sym' is not defined"
     ]
    }
   ],
   "source": [
    "#Simplest Example, evaluating a simple linear system\n",
    "x = sym.symbols('x')\n",
    "f = (x*2+1)\n",
    "root = multi_root(f)\n",
    "print (\"root=\", root)\n"
   ]
  },
  {
   "attachments": {},
   "cell_type": "markdown",
   "metadata": {},
   "source": [
    "# Example 2.\n",
    "Evaluating a binomial"
   ]
  },
  {
   "cell_type": "code",
   "execution_count": 5,
   "metadata": {},
   "outputs": [
    {
     "name": "stdout",
     "output_type": "stream",
     "text": [
      "root= [3/2]\n"
     ]
    }
   ],
   "source": [
    "#Adding complexity, evaluating a binomial\n",
    "x = sym.symbols('x')\n",
    "f = (x**2-3)\n",
    "root = multi_root(f)\n",
    "print (\"root=\", root)"
   ]
  },
  {
   "attachments": {},
   "cell_type": "markdown",
   "metadata": {},
   "source": [
    "# Example 3.\n",
    "Work with a trigonomic function"
   ]
  },
  {
   "cell_type": "code",
   "execution_count": 3,
   "metadata": {},
   "outputs": [
    {
     "ename": "TypeError",
     "evalue": "'Add' object is not subscriptable",
     "output_type": "error",
     "traceback": [
      "\u001b[0;31m---------------------------------------------------------------------------\u001b[0m",
      "\u001b[0;31mTypeError\u001b[0m                                 Traceback (most recent call last)",
      "Cell \u001b[0;32mIn[3], line 7\u001b[0m\n\u001b[1;32m      5\u001b[0m eqns \u001b[39m=\u001b[39m (x\u001b[39m*\u001b[39m\u001b[39m2\u001b[39m\u001b[39m+\u001b[39m\u001b[39m1\u001b[39m)\n\u001b[1;32m      6\u001b[0m n \u001b[39m=\u001b[39m \u001b[39m2\u001b[39m\n\u001b[0;32m----> 7\u001b[0m roots \u001b[39m=\u001b[39m multi_function(eqns, n)\n\u001b[1;32m      8\u001b[0m \u001b[39mprint\u001b[39m (roots)\n",
      "File \u001b[0;32m/projectnb/me700/students/mlanduyt/Assignment1/Newtons_Method/MultiRoot.py:48\u001b[0m, in \u001b[0;36mmulti_function\u001b[0;34m(eqns, n)\u001b[0m\n\u001b[1;32m     46\u001b[0m \u001b[39mdef\u001b[39;00m\u001b[39m \u001b[39m\u001b[39mmulti_function\u001b[39m (eqns, n):\n\u001b[1;32m     47\u001b[0m     \u001b[39mfor\u001b[39;00m i \u001b[39min\u001b[39;00m \u001b[39mrange\u001b[39m (\u001b[39m0\u001b[39m,\u001b[39m1\u001b[39m):\n\u001b[0;32m---> 48\u001b[0m         f \u001b[39m=\u001b[39m eqns[i]\n\u001b[1;32m     49\u001b[0m         root \u001b[39m==\u001b[39m multi_root(f)\n\u001b[1;32m     50\u001b[0m         \u001b[39mreturn\u001b[39;00m root\n",
      "\u001b[0;31mTypeError\u001b[0m: 'Add' object is not subscriptable"
     ]
    }
   ],
   "source": [
    "#Example 3.\n",
    "x0 = 3\n",
    "x = sym.symbols('x')\n",
    "y = sym.symbols('y')\n",
    "eqns = (x*2+1)\n",
    "n = 2\n",
    "roots = multi_function(eqns, n)\n",
    "print (roots)\n"
   ]
  },
  {
   "attachments": {},
   "cell_type": "markdown",
   "metadata": {},
   "source": [
    "# Example 4. \n",
    "Equations of motion"
   ]
  },
  {
   "cell_type": "code",
   "execution_count": null,
   "metadata": {},
   "outputs": [],
   "source": [
    "# Example 4.\n",
    "#Evaluating equation of motion of a cart attached to a spring.\n",
    "#Using mass (m) and spring constant (k)\n",
    "m = 1\n",
    "k = 1\n",
    "#This equation of motion results in the differential equation m(d^2x/dy^2) = -kx\n",
    "#Simplifying to 1/2x^2 + k*x = 0 and can be solved using this solver\n",
    "f = lambda x: m*x**2 + k*x\n",
    "root = multi_root(f)\n",
    "print (\"root=\", root)"
   ]
  },
  {
   "attachments": {},
   "cell_type": "markdown",
   "metadata": {},
   "source": [
    "# Example 5.\n",
    "Final example will evaluate projectile motion"
   ]
  },
  {
   "cell_type": "code",
   "execution_count": null,
   "metadata": {},
   "outputs": [],
   "source": [
    "# Example 5.\n",
    "#Evaluating projectile motion\n",
    "#Using mass (m) and gravity (g)\n",
    "m = 1\n",
    "g = 9.8\n",
    "y0 = 0\n",
    "#Initial upwards velocity\n",
    "ydot = 10\n",
    "#This evaluation \n",
    "f = lambda t: y0 + ydot*t - (m*g*t**2)\n",
    "root = multi_root(f)\n",
    "print (\"root=\", root)\n"
   ]
  },
  {
   "cell_type": "code",
   "execution_count": null,
   "metadata": {},
   "outputs": [],
   "source": []
  }
 ],
 "metadata": {
  "kernelspec": {
   "display_name": "me700-3env",
   "language": "python",
   "name": "python3"
  },
  "language_info": {
   "codemirror_mode": {
    "name": "ipython",
    "version": 3
   },
   "file_extension": ".py",
   "mimetype": "text/x-python",
   "name": "python",
   "nbconvert_exporter": "python",
   "pygments_lexer": "ipython3",
   "version": "3.9.13"
  }
 },
 "nbformat": 4,
 "nbformat_minor": 2
}
